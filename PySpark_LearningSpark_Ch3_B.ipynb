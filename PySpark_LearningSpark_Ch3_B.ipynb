{
  "nbformat": 4,
  "nbformat_minor": 0,
  "metadata": {
    "colab": {
      "name": "PySpark_LearningSpark_Ch3_B.ipynb",
      "provenance": [],
      "authorship_tag": "ABX9TyNIGGU3HX0Vuy9zKl+Oxj86",
      "include_colab_link": true
    },
    "kernelspec": {
      "name": "python3",
      "display_name": "Python 3"
    },
    "language_info": {
      "name": "python"
    }
  },
  "cells": [
    {
      "cell_type": "markdown",
      "metadata": {
        "id": "view-in-github",
        "colab_type": "text"
      },
      "source": [
        "<a href=\"https://colab.research.google.com/github/priyadharshini13/pyspark/blob/main/PySpark_LearningSpark_Ch3_B.ipynb\" target=\"_parent\"><img src=\"https://colab.research.google.com/assets/colab-badge.svg\" alt=\"Open In Colab\"/></a>"
      ]
    },
    {
      "cell_type": "code",
      "execution_count": 1,
      "metadata": {
        "colab": {
          "base_uri": "https://localhost:8080/"
        },
        "id": "zd8M66YtXIBS",
        "outputId": "a362268c-0548-467d-f120-925edc44c73a"
      },
      "outputs": [
        {
          "output_type": "stream",
          "name": "stdout",
          "text": [
            "Collecting pyspark\n",
            "  Downloading pyspark-3.2.0.tar.gz (281.3 MB)\n",
            "\u001b[K     |████████████████████████████████| 281.3 MB 39 kB/s \n",
            "\u001b[?25hCollecting py4j==0.10.9.2\n",
            "  Downloading py4j-0.10.9.2-py2.py3-none-any.whl (198 kB)\n",
            "\u001b[K     |████████████████████████████████| 198 kB 62.9 MB/s \n",
            "\u001b[?25hBuilding wheels for collected packages: pyspark\n",
            "  Building wheel for pyspark (setup.py) ... \u001b[?25l\u001b[?25hdone\n",
            "  Created wheel for pyspark: filename=pyspark-3.2.0-py2.py3-none-any.whl size=281805912 sha256=df6c986cfe5d83aa4e7bed645e30d91ca3b6f85c43f1d2175525b05b7acdbc23\n",
            "  Stored in directory: /root/.cache/pip/wheels/0b/de/d2/9be5d59d7331c6c2a7c1b6d1a4f463ce107332b1ecd4e80718\n",
            "Successfully built pyspark\n",
            "Installing collected packages: py4j, pyspark\n",
            "Successfully installed py4j-0.10.9.2 pyspark-3.2.0\n"
          ]
        }
      ],
      "source": [
        "!pip install pyspark"
      ]
    },
    {
      "cell_type": "code",
      "source": [
        "from pyspark.sql import SparkSession\n",
        "\n",
        "spark = SparkSession.builder.appName('Ch3 - Common DF Operation').master('local[3]').getOrCreate()\n"
      ],
      "metadata": {
        "id": "l5OqaGCsXdDn"
      },
      "execution_count": 2,
      "outputs": []
    },
    {
      "cell_type": "markdown",
      "source": [
        "# Common Dataframe operation\n",
        "\n",
        "1. Using DataFrame reader\n",
        "2. Using DataFrame Writer\n"
      ],
      "metadata": {
        "id": "p2u5RWy1X5ea"
      }
    },
    {
      "cell_type": "code",
      "source": [
        "import pandas as pd\n",
        "# df_json = json.dumps(result)\n",
        "emp_data = {\"EMPID\":{\"0\":1,\"1\":2,\"2\":3,\"3\":4,\"4\":5},\"ENAME\":{\"0\":\"Deepika\",\"1\":\"Vignesh\",\"2\":\"Ganesh\",\"3\":\"Haritha\",\"4\":\"ilango\"},\"AGE\":{\"0\":30,\"1\":27,\"2\":28,\"3\":29,\"4\":40},\"SEX\":{\"0\":\"FEMALE\",\"1\":\"MALE\",\"2\":\"MALE\",\"3\":\"FEMALE\",\"4\":\"MALE\"}}\n",
        "extract_data_df = pd.DataFrame.from_dict(emp_data)\n",
        "extract_data_df\n",
        "# extract_data_df1 = extract_data_df[\"ENAME\"].str.upper()"
      ],
      "metadata": {
        "colab": {
          "base_uri": "https://localhost:8080/",
          "height": 205
        },
        "id": "ByRldaNq3p5u",
        "outputId": "2c114a95-9282-4b79-b288-f8b743ba91e5"
      },
      "execution_count": 3,
      "outputs": [
        {
          "output_type": "execute_result",
          "data": {
            "text/html": [
              "<div>\n",
              "<style scoped>\n",
              "    .dataframe tbody tr th:only-of-type {\n",
              "        vertical-align: middle;\n",
              "    }\n",
              "\n",
              "    .dataframe tbody tr th {\n",
              "        vertical-align: top;\n",
              "    }\n",
              "\n",
              "    .dataframe thead th {\n",
              "        text-align: right;\n",
              "    }\n",
              "</style>\n",
              "<table border=\"1\" class=\"dataframe\">\n",
              "  <thead>\n",
              "    <tr style=\"text-align: right;\">\n",
              "      <th></th>\n",
              "      <th>EMPID</th>\n",
              "      <th>ENAME</th>\n",
              "      <th>AGE</th>\n",
              "      <th>SEX</th>\n",
              "    </tr>\n",
              "  </thead>\n",
              "  <tbody>\n",
              "    <tr>\n",
              "      <th>0</th>\n",
              "      <td>1</td>\n",
              "      <td>Deepika</td>\n",
              "      <td>30</td>\n",
              "      <td>FEMALE</td>\n",
              "    </tr>\n",
              "    <tr>\n",
              "      <th>1</th>\n",
              "      <td>2</td>\n",
              "      <td>Vignesh</td>\n",
              "      <td>27</td>\n",
              "      <td>MALE</td>\n",
              "    </tr>\n",
              "    <tr>\n",
              "      <th>2</th>\n",
              "      <td>3</td>\n",
              "      <td>Ganesh</td>\n",
              "      <td>28</td>\n",
              "      <td>MALE</td>\n",
              "    </tr>\n",
              "    <tr>\n",
              "      <th>3</th>\n",
              "      <td>4</td>\n",
              "      <td>Haritha</td>\n",
              "      <td>29</td>\n",
              "      <td>FEMALE</td>\n",
              "    </tr>\n",
              "    <tr>\n",
              "      <th>4</th>\n",
              "      <td>5</td>\n",
              "      <td>ilango</td>\n",
              "      <td>40</td>\n",
              "      <td>MALE</td>\n",
              "    </tr>\n",
              "  </tbody>\n",
              "</table>\n",
              "</div>"
            ],
            "text/plain": [
              "   EMPID    ENAME  AGE     SEX\n",
              "0      1  Deepika   30  FEMALE\n",
              "1      2  Vignesh   27    MALE\n",
              "2      3   Ganesh   28    MALE\n",
              "3      4  Haritha   29  FEMALE\n",
              "4      5   ilango   40    MALE"
            ]
          },
          "metadata": {},
          "execution_count": 3
        }
      ]
    },
    {
      "cell_type": "code",
      "source": [
        "from pyspark import SparkFiles\n",
        "\n",
        "# url = 'https://raw.githubusercontent.com/jokecamp/FootballData/master/openFootballData/cities.csv'\n",
        "url = 'https://raw.githubusercontent.com/databricks/LearningSparkV2/master/chapter3/data/sf-fire-calls.csv'\n",
        "spark.sparkContext.addFile(url)\n",
        "df = spark.read.csv(SparkFiles.get(\"sf-fire-calls.csv\"), header=True)\n",
        "df.show()"
      ],
      "metadata": {
        "colab": {
          "base_uri": "https://localhost:8080/"
        },
        "id": "tepEQh7pX46D",
        "outputId": "ca835eb5-990b-4859-cffa-098934a35471"
      },
      "execution_count": 4,
      "outputs": [
        {
          "output_type": "stream",
          "name": "stdout",
          "text": [
            "+----------+------+--------------+----------------+----------+----------+--------------------+--------------------+--------------------+----+-------+---------+-----------+----+----------------+--------+-------------+-------+-------------+---------+--------------+--------------------------+----------------------+------------------+--------------------+--------------------+-------------+---------+\n",
            "|CallNumber|UnitID|IncidentNumber|        CallType|  CallDate| WatchDate|CallFinalDisposition|       AvailableDtTm|             Address|City|Zipcode|Battalion|StationArea| Box|OriginalPriority|Priority|FinalPriority|ALSUnit|CallTypeGroup|NumAlarms|      UnitType|UnitSequenceInCallDispatch|FirePreventionDistrict|SupervisorDistrict|        Neighborhood|            Location|        RowID|    Delay|\n",
            "+----------+------+--------------+----------------+----------+----------+--------------------+--------------------+--------------------+----+-------+---------+-----------+----+----------------+--------+-------------+-------+-------------+---------+--------------+--------------------------+----------------------+------------------+--------------------+--------------------+-------------+---------+\n",
            "|  20110016|   T13|       2003235|  Structure Fire|01/11/2002|01/10/2002|               Other|01/11/2002 01:51:...|2000 Block of CAL...|  SF|  94109|      B04|         38|3362|               3|       3|            3|  false|         null|        1|         TRUCK|                         2|                     4|                 5|     Pacific Heights|(37.7895840679362...|020110016-T13|     2.95|\n",
            "|  20110022|   M17|       2003241|Medical Incident|01/11/2002|01/10/2002|               Other|01/11/2002 03:01:...|0 Block of SILVER...|  SF|  94124|      B10|         42|6495|               3|       3|            3|   true|         null|        1|         MEDIC|                         1|                    10|                10|Bayview Hunters P...|(37.7337623673897...|020110022-M17|      4.7|\n",
            "|  20110023|   M41|       2003242|Medical Incident|01/11/2002|01/10/2002|               Other|01/11/2002 02:39:...|MARKET ST/MCALLIS...|  SF|  94102|      B03|         01|1455|               3|       3|            3|   true|         null|        1|         MEDIC|                         2|                     3|                 6|          Tenderloin|(37.7811772186856...|020110023-M41|2.4333334|\n",
            "|  20110032|   E11|       2003250|    Vehicle Fire|01/11/2002|01/10/2002|               Other|01/11/2002 04:16:...|APPLETON AV/MISSI...|  SF|  94110|      B06|         32|5626|               3|       3|            3|  false|         null|        1|        ENGINE|                         1|                     6|                 9|      Bernal Heights|(37.7388432849018...|020110032-E11|      1.5|\n",
            "|  20110043|   B04|       2003259|          Alarms|01/11/2002|01/10/2002|               Other|01/11/2002 06:01:...|1400 Block of SUT...|  SF|  94109|      B04|         03|3223|               3|       3|            3|  false|         null|        1|         CHIEF|                         2|                     4|                 2|    Western Addition|(37.7872890372638...|020110043-B04|3.4833333|\n",
            "|  20110072|   T08|       2003279|  Structure Fire|01/11/2002|01/11/2002|               Other|01/11/2002 08:03:...|  BEALE ST/FOLSOM ST|  SF|  94105|      B03|         35|2122|               3|       3|            3|  false|         null|        1|         TRUCK|                         2|                     3|                 6|Financial Distric...|(37.7886866619654...|020110072-T08|     1.75|\n",
            "|  20110125|   E33|       2003301|          Alarms|01/11/2002|01/11/2002|               Other|01/11/2002 09:46:...|0 Block of FARALL...|  SF|  94112|      B09|         33|8324|               3|       3|            3|  false|         null|        1|        ENGINE|                         2|                     9|                11|Oceanview/Merced/...|(37.7140353531157...|020110125-E33|2.7166667|\n",
            "|  20110130|   E36|       2003304|          Alarms|01/11/2002|01/11/2002|               Other|01/11/2002 09:58:...|600 Block of POLK ST|  SF|  94102|      B02|         03|3114|               3|       3|            3|  false|         null|        1|        ENGINE|                         1|                     2|                 6|          Tenderloin|(37.7826266328595...|020110130-E36|1.7833333|\n",
            "|  20110197|   E05|       2003343|Medical Incident|01/11/2002|01/11/2002|               Other|01/11/2002 12:06:...|1500 Block of WEB...|  SF|  94115|      B04|         05|3513|               3|       3|            3|  false|         null|        1|        ENGINE|                         1|                     4|                 5|           Japantown|(37.784958590666,...|020110197-E05|1.5166667|\n",
            "|  20110215|   E06|       2003348|Medical Incident|01/11/2002|01/11/2002|               Other|01/11/2002 01:08:...|DIAMOND ST/MARKET ST|  SF|  94114|      B05|         06|5415|               3|       3|            3|  false|         null|        1|        ENGINE|                         1|                     5|                 8| Castro/Upper Market|(37.7618954753708...|020110215-E06|2.7666667|\n",
            "|  20110274|   M07|       2003381|Medical Incident|01/11/2002|01/11/2002|               Other|01/11/2002 03:31:...|2700 Block of MIS...|  SF|  94110|      B06|         11|5525|               1|       1|            2|   true|         null|        1|         MEDIC|                         1|                     6|                 9|             Mission|(37.7530339738059...|020110274-M07|2.1833334|\n",
            "|  20110275|   T15|       2003382|  Structure Fire|01/11/2002|01/11/2002|               Other|01/11/2002 02:59:...|BRUNSWICK ST/GUTT...|  SF|  94112|      B09|         43|6218|               3|       3|            3|  false|         null|        1|         TRUCK|                         1|                     9|                11|           Excelsior|(37.7105545807996...|020110275-T15|      2.5|\n",
            "|  20110304|   E03|       2003399|Medical Incident|01/11/2002|01/11/2002|               Other|01/11/2002 04:22:...|1000 Block of SUT...|  SF|  94109|      B04|         03|1557|               3|       3|            3|  false|         null|        1|        ENGINE|                         1|                     4|                 3|            Nob Hill|(37.7881263034393...|020110304-E03|2.4166667|\n",
            "|  20110308|   E14|       2003403|Medical Incident|01/11/2002|01/11/2002|               Other|01/11/2002 04:18:...|100 Block of 21ST...|  SF|  94121|      B07|         14|7173|               3|       3|            3|  false|         null|        1|        ENGINE|                         1|                     7|                 1|      Outer Richmond|(37.7850084431077...|020110308-E14|     4.95|\n",
            "|  20110313|   B10|       2003408|  Structure Fire|01/11/2002|01/11/2002|               Other|01/11/2002 04:09:...|700 Block of CAPP ST|  SF|  94110|      B06|         07|5472|               3|       3|            3|  false|         null|        1|         CHIEF|                         6|                     6|                 9|             Mission|(37.7547064357942...|020110313-B10|1.4166666|\n",
            "|  20110313|    D3|       2003408|  Structure Fire|01/11/2002|01/11/2002|               Other|01/11/2002 04:09:...|700 Block of CAPP ST|  SF|  94110|      B06|         07|5472|               3|       3|            3|  false|         null|        1|         CHIEF|                         4|                     6|                 9|             Mission|(37.7547064357942...| 020110313-D3|2.5333333|\n",
            "|  20110313|   E32|       2003408|  Structure Fire|01/11/2002|01/11/2002|               Other|01/11/2002 04:09:...|700 Block of CAPP ST|  SF|  94110|      B06|         07|5472|               3|       3|            3|   true|         null|        1|        ENGINE|                         8|                     6|                 9|             Mission|(37.7547064357942...|020110313-E32|1.8833333|\n",
            "|  20110315|   RC2|       2003409|Medical Incident|01/11/2002|01/11/2002|               Other|01/11/2002 04:34:...|200 Block of LAGU...|  SF|  94116|      B08|         20|8635|               3|       3|            3|   true|         null|        1|RESCUE CAPTAIN|                         2|                     8|                 7|  West of Twin Peaks|(37.7501117393668...|020110315-RC2|     5.35|\n",
            "|  20110330|   E14|       2003417|Medical Incident|01/11/2002|01/11/2002|               Other|01/11/2002 04:51:...|BALBOA ST/PARK PR...|  SF|  94118|      B07|         31|7145|               3|       3|            3|  false|         null|        1|        ENGINE|                         1|                     7|                 1|      Inner Richmond|(37.7768682293368...|020110330-E14|      2.0|\n",
            "|  20110330|   M12|       2003417|Medical Incident|01/11/2002|01/11/2002|               Other|01/11/2002 04:51:...|BALBOA ST/PARK PR...|  SF|  94118|      B07|         31|7145|               3|       3|            3|   true|         null|        1|         MEDIC|                         2|                     7|                 1|      Inner Richmond|(37.7768682293368...|020110330-M12|1.8166667|\n",
            "+----------+------+--------------+----------------+----------+----------+--------------------+--------------------+--------------------+----+-------+---------+-----------+----+----------------+--------+-------------+-------+-------------+---------+--------------+--------------------------+----------------------+------------------+--------------------+--------------------+-------------+---------+\n",
            "only showing top 20 rows\n",
            "\n"
          ]
        }
      ]
    },
    {
      "cell_type": "code",
      "source": [
        "# Defining schema\n",
        "from pyspark.sql.types import *\n",
        "\n",
        "# Programatic way to define schema\n",
        "fire_schema = StructType([StructField('CallNumber', IntegerType(), True),\n",
        "      StructField('UnitID', StringType(), True),\n",
        "      StructField('IncidentNumber', IntegerType(), True),\n",
        "      StructField('CallType', StringType(), True),\n",
        "      StructField('CallDate', StringType(), True),\n",
        "      StructField('WatchDate', StringType(), True),\n",
        "      StructField('CallFinalDisposition', StringType(), True),\n",
        "      StructField('AvailableDtTm', StringType(), True),\n",
        "      StructField('Address', StringType(), True),\n",
        "      StructField('City', StringType(), True),\n",
        "      StructField('Zipcode', IntegerType(), True),\n",
        "      StructField('Battalion', StringType(), True),\n",
        "      StructField('StationArea', StringType(), True),\n",
        "      StructField('Box', StringType(), True),\n",
        "      StructField('OriginalPriority', StringType(), True),\n",
        "      StructField('Priority', StringType(), True),\n",
        "      StructField('FinalPriority', IntegerType(), True),\n",
        "      StructField('ALSUnit', BooleanType(), True),\n",
        "      StructField('CallTypeGroup', StringType(), True),\n",
        "      StructField('NumAlarms', IntegerType(), True),\n",
        "      StructField('UnitType', StringType(), True),\n",
        "      StructField('UnitSequenceInCallDispatch', IntegerType(), True),\n",
        "      StructField('FirePreventionDistrict', StringType(), True),\n",
        "      StructField('SupervisorDistrict', StringType(), True),\n",
        "      StructField('Neighborhood', StringType(), True),\n",
        "      StructField('Location', StringType(), True),\n",
        "      StructField('RowID', StringType(), True),\n",
        "      StructField('Delay', FloatType(), True)])\n"
      ],
      "metadata": {
        "id": "WoZjFAgsdA5z"
      },
      "execution_count": 5,
      "outputs": []
    },
    {
      "cell_type": "code",
      "source": [
        "url = 'https://raw.githubusercontent.com/databricks/LearningSparkV2/master/chapter3/data/sf-fire-calls.csv'\n",
        "spark.sparkContext.addFile(url)\n",
        "fire_df = spark.read.csv(SparkFiles.get('sf-fire-calls.csv'), header=True, schema=fire_schema)\n",
        "fire_df.show(5)"
      ],
      "metadata": {
        "colab": {
          "base_uri": "https://localhost:8080/"
        },
        "id": "tuJRnmxudXKp",
        "outputId": "761618ea-a676-47c9-ac9e-7a40d903470c"
      },
      "execution_count": 6,
      "outputs": [
        {
          "output_type": "stream",
          "name": "stdout",
          "text": [
            "+----------+------+--------------+----------------+----------+----------+--------------------+--------------------+--------------------+----+-------+---------+-----------+----+----------------+--------+-------------+-------+-------------+---------+--------+--------------------------+----------------------+------------------+--------------------+--------------------+-------------+---------+\n",
            "|CallNumber|UnitID|IncidentNumber|        CallType|  CallDate| WatchDate|CallFinalDisposition|       AvailableDtTm|             Address|City|Zipcode|Battalion|StationArea| Box|OriginalPriority|Priority|FinalPriority|ALSUnit|CallTypeGroup|NumAlarms|UnitType|UnitSequenceInCallDispatch|FirePreventionDistrict|SupervisorDistrict|        Neighborhood|            Location|        RowID|    Delay|\n",
            "+----------+------+--------------+----------------+----------+----------+--------------------+--------------------+--------------------+----+-------+---------+-----------+----+----------------+--------+-------------+-------+-------------+---------+--------+--------------------------+----------------------+------------------+--------------------+--------------------+-------------+---------+\n",
            "|  20110016|   T13|       2003235|  Structure Fire|01/11/2002|01/10/2002|               Other|01/11/2002 01:51:...|2000 Block of CAL...|  SF|  94109|      B04|         38|3362|               3|       3|            3|  false|         null|        1|   TRUCK|                         2|                     4|                 5|     Pacific Heights|(37.7895840679362...|020110016-T13|     2.95|\n",
            "|  20110022|   M17|       2003241|Medical Incident|01/11/2002|01/10/2002|               Other|01/11/2002 03:01:...|0 Block of SILVER...|  SF|  94124|      B10|         42|6495|               3|       3|            3|   true|         null|        1|   MEDIC|                         1|                    10|                10|Bayview Hunters P...|(37.7337623673897...|020110022-M17|      4.7|\n",
            "|  20110023|   M41|       2003242|Medical Incident|01/11/2002|01/10/2002|               Other|01/11/2002 02:39:...|MARKET ST/MCALLIS...|  SF|  94102|      B03|         01|1455|               3|       3|            3|   true|         null|        1|   MEDIC|                         2|                     3|                 6|          Tenderloin|(37.7811772186856...|020110023-M41|2.4333334|\n",
            "|  20110032|   E11|       2003250|    Vehicle Fire|01/11/2002|01/10/2002|               Other|01/11/2002 04:16:...|APPLETON AV/MISSI...|  SF|  94110|      B06|         32|5626|               3|       3|            3|  false|         null|        1|  ENGINE|                         1|                     6|                 9|      Bernal Heights|(37.7388432849018...|020110032-E11|      1.5|\n",
            "|  20110043|   B04|       2003259|          Alarms|01/11/2002|01/10/2002|               Other|01/11/2002 06:01:...|1400 Block of SUT...|  SF|  94109|      B04|         03|3223|               3|       3|            3|  false|         null|        1|   CHIEF|                         2|                     4|                 2|    Western Addition|(37.7872890372638...|020110043-B04|3.4833333|\n",
            "+----------+------+--------------+----------------+----------+----------+--------------------+--------------------+--------------------+----+-------+---------+-----------+----+----------------+--------+-------------+-------+-------------+---------+--------+--------------------------+----------------------+------------------+--------------------+--------------------+-------------+---------+\n",
            "only showing top 5 rows\n",
            "\n"
          ]
        }
      ]
    },
    {
      "cell_type": "code",
      "source": [
        "parquet_path = 'demo/fire'\n",
        "fire_df.write.format(\"parquet\").save(parquet_path)\n",
        "\n",
        "parquet_table = 'fire1'\n",
        "fire_df.write.format(\"parquet\").saveAsTable(parquet_table) # stored inside spark-warehouse/"
      ],
      "metadata": {
        "id": "fxlg3Q1Ajlnh"
      },
      "execution_count": 7,
      "outputs": []
    },
    {
      "cell_type": "markdown",
      "source": [
        "# Transformations and actions\n",
        " 1. projections and filters\n",
        "   Projection - a way to return only a specific row matching certain relational condition by using filters."
      ],
      "metadata": {
        "id": "rqlsJAi6uMci"
      }
    },
    {
      "cell_type": "code",
      "source": [
        "from pyspark.sql.functions import col\n",
        "fire_df_filtered = fire_df.select(\"IncidentNumber\", \"AvailableDtTm\", \"CallType\").where(col(\"CallType\") != \"Medical Incident\")\n",
        "fire_df_filtered.show()\n",
        "# fire_df_filtered.explain()"
      ],
      "metadata": {
        "colab": {
          "base_uri": "https://localhost:8080/"
        },
        "id": "6SENcCcxkYGx",
        "outputId": "c59a9260-477c-4e81-96d6-eb7ecf91d6a6"
      },
      "execution_count": 16,
      "outputs": [
        {
          "output_type": "stream",
          "name": "stdout",
          "text": [
            "+--------------+--------------------+--------------------+\n",
            "|IncidentNumber|       AvailableDtTm|            CallType|\n",
            "+--------------+--------------------+--------------------+\n",
            "|       2003235|01/11/2002 01:51:...|      Structure Fire|\n",
            "|       2003250|01/11/2002 04:16:...|        Vehicle Fire|\n",
            "|       2003259|01/11/2002 06:01:...|              Alarms|\n",
            "|       2003279|01/11/2002 08:03:...|      Structure Fire|\n",
            "|       2003301|01/11/2002 09:46:...|              Alarms|\n",
            "|       2003304|01/11/2002 09:58:...|              Alarms|\n",
            "|       2003382|01/11/2002 02:59:...|      Structure Fire|\n",
            "|       2003408|01/11/2002 04:09:...|      Structure Fire|\n",
            "|       2003408|01/11/2002 04:09:...|      Structure Fire|\n",
            "|       2003408|01/11/2002 04:09:...|      Structure Fire|\n",
            "|       2003429|01/11/2002 05:17:...|Odor (Strange / U...|\n",
            "|       2003453|01/11/2002 06:48:...|              Alarms|\n",
            "|       2003497|01/11/2002 09:03:...|      Structure Fire|\n",
            "|       2003554|01/12/2002 01:56:...|      Structure Fire|\n",
            "|       2003618|01/12/2002 11:07:...|Odor (Strange / U...|\n",
            "|       2003649|01/12/2002 01:03:...|Odor (Strange / U...|\n",
            "|       2003695|01/12/2002 04:46:...|      Structure Fire|\n",
            "|       2003756|01/12/2002 07:54:...|              Alarms|\n",
            "|       2003770|01/12/2002 08:44:...|Smoke Investigati...|\n",
            "|       2003777|01/12/2002 09:14:...|      Structure Fire|\n",
            "+--------------+--------------------+--------------------+\n",
            "only showing top 20 rows\n",
            "\n"
          ]
        }
      ]
    },
    {
      "cell_type": "code",
      "source": [
        "# Finding distinct callTypes \n",
        "  # countDistinct or count_distinct\n",
        "from pyspark.sql.functions import *\n",
        "\n",
        "# 1. Distinct on selected column\n",
        "# fire_df_distinct1 = fire_df.select('CallType').where(col('CallType').isNotNull()).agg(countDistinct('CallType').alias('countDistinctCallType'))\n",
        "# fire_df_distinct2 = fire_df.select('CallType').where(col('CallType').isNotNull()).agg(count_distinct('CallType'))\n",
        "# # agg(countDistinct('CallType').alias('DistinctCallType'))\n",
        "# fire_df_distinct1.show()\n",
        "# fire_df_distinct2.show()\n",
        "\n",
        "# 2. Distinct rows\n",
        "fire_df_distinct_row = fire_df.distinct().count()\n",
        "print('Distinct rows', fire_df_distinct_row)"
      ],
      "metadata": {
        "colab": {
          "base_uri": "https://localhost:8080/"
        },
        "id": "v9cJtjIpwLGA",
        "outputId": "18e9c581-223b-442d-ca69-61169aa6f9d4"
      },
      "execution_count": 28,
      "outputs": [
        {
          "output_type": "stream",
          "name": "stdout",
          "text": [
            "Distinct rows 175296\n"
          ]
        }
      ]
    },
    {
      "cell_type": "code",
      "source": [
        "#List distinct call type\n",
        "fire_df_distinct_list = fire_df.select('CallType').where(col('CallType').isNotNull()).distinct().show(truncate=False)"
      ],
      "metadata": {
        "colab": {
          "base_uri": "https://localhost:8080/"
        },
        "id": "YpdoXQQqwb5d",
        "outputId": "e5ae8016-f03d-4ddd-e48c-c4ece0ea9c17"
      },
      "execution_count": 25,
      "outputs": [
        {
          "output_type": "stream",
          "name": "stdout",
          "text": [
            "+--------------------------------------------+\n",
            "|CallType                                    |\n",
            "+--------------------------------------------+\n",
            "|Elevator / Escalator Rescue                 |\n",
            "|Marine Fire                                 |\n",
            "|Aircraft Emergency                          |\n",
            "|Confined Space / Structure Collapse         |\n",
            "|Administrative                              |\n",
            "|Alarms                                      |\n",
            "|Odor (Strange / Unknown)                    |\n",
            "|Citizen Assist / Service Call               |\n",
            "|HazMat                                      |\n",
            "|Watercraft in Distress                      |\n",
            "|Explosion                                   |\n",
            "|Oil Spill                                   |\n",
            "|Vehicle Fire                                |\n",
            "|Suspicious Package                          |\n",
            "|Extrication / Entrapped (Machinery, Vehicle)|\n",
            "|Other                                       |\n",
            "|Outside Fire                                |\n",
            "|Traffic Collision                           |\n",
            "|Assist Police                               |\n",
            "|Gas Leak (Natural and LP Gases)             |\n",
            "+--------------------------------------------+\n",
            "only showing top 20 rows\n",
            "\n"
          ]
        }
      ]
    },
    {
      "cell_type": "markdown",
      "source": [
        ""
      ],
      "metadata": {
        "id": "Qm-ADQj1dAoD"
      }
    }
  ]
}